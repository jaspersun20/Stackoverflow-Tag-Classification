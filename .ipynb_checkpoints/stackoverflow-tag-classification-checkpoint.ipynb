{
 "cells": [
  {
   "cell_type": "code",
   "execution_count": 16,
   "id": "ac760d2d",
   "metadata": {},
   "outputs": [],
   "source": [
    "import numpy as np # linear algebra\n",
    "import pandas as pd # data processing, CSV file I/O (e.g. pd.read_csv)\n",
    "\n",
    "# Input data files are available in the read-only \"../input/\" directory\n",
    "# For example, running this (by clicking run or pressing Shift+Enter) will list all files under the input directory\n",
    "\n",
    "import os\n",
    "for dirname, _, filenames in os.walk('/kaggle/input'):\n",
    "    for filename in filenames:\n",
    "        print(os.path.join(dirname, filename))"
   ]
  },
  {
   "cell_type": "code",
   "execution_count": 17,
   "id": "e311d7d5",
   "metadata": {},
   "outputs": [
    {
     "data": {
      "text/html": [
       "<div>\n",
       "<style scoped>\n",
       "    .dataframe tbody tr th:only-of-type {\n",
       "        vertical-align: middle;\n",
       "    }\n",
       "\n",
       "    .dataframe tbody tr th {\n",
       "        vertical-align: top;\n",
       "    }\n",
       "\n",
       "    .dataframe thead th {\n",
       "        text-align: right;\n",
       "    }\n",
       "</style>\n",
       "<table border=\"1\" class=\"dataframe\">\n",
       "  <thead>\n",
       "    <tr style=\"text-align: right;\">\n",
       "      <th></th>\n",
       "      <th>title</th>\n",
       "      <th>id_stack</th>\n",
       "      <th>tags</th>\n",
       "      <th>views</th>\n",
       "      <th>score</th>\n",
       "      <th>done</th>\n",
       "      <th>label</th>\n",
       "    </tr>\n",
       "  </thead>\n",
       "  <tbody>\n",
       "    <tr>\n",
       "      <th>0</th>\n",
       "      <td>Using entries from other kivy classes</td>\n",
       "      <td>61881920</td>\n",
       "      <td>['python', 'python-3.x', 'kivy']</td>\n",
       "      <td>12</td>\n",
       "      <td>0</td>\n",
       "      <td>False</td>\n",
       "      <td>python</td>\n",
       "    </tr>\n",
       "    <tr>\n",
       "      <th>1</th>\n",
       "      <td>Package python software with pylucene dependency</td>\n",
       "      <td>61896481</td>\n",
       "      <td>['python', 'docker', 'pip', 'dependencies', 'p...</td>\n",
       "      <td>7</td>\n",
       "      <td>1</td>\n",
       "      <td>False</td>\n",
       "      <td>python</td>\n",
       "    </tr>\n",
       "    <tr>\n",
       "      <th>2</th>\n",
       "      <td>Extracting time with regex from a string</td>\n",
       "      <td>61894597</td>\n",
       "      <td>['python', 'regex']</td>\n",
       "      <td>29</td>\n",
       "      <td>3</td>\n",
       "      <td>False</td>\n",
       "      <td>python</td>\n",
       "    </tr>\n",
       "    <tr>\n",
       "      <th>3</th>\n",
       "      <td>How do I add specific headers before each form...</td>\n",
       "      <td>61896721</td>\n",
       "      <td>['python', 'django']</td>\n",
       "      <td>4</td>\n",
       "      <td>0</td>\n",
       "      <td>False</td>\n",
       "      <td>python</td>\n",
       "    </tr>\n",
       "    <tr>\n",
       "      <th>4</th>\n",
       "      <td>Barplot from a dataframe using a column to set...</td>\n",
       "      <td>61896506</td>\n",
       "      <td>['python', 'pandas', 'bar-chart', 'seaborn', '...</td>\n",
       "      <td>12</td>\n",
       "      <td>0</td>\n",
       "      <td>True</td>\n",
       "      <td>python</td>\n",
       "    </tr>\n",
       "  </tbody>\n",
       "</table>\n",
       "</div>"
      ],
      "text/plain": [
       "                                               title  id_stack  \\\n",
       "0              Using entries from other kivy classes  61881920   \n",
       "1   Package python software with pylucene dependency  61896481   \n",
       "2           Extracting time with regex from a string  61894597   \n",
       "3  How do I add specific headers before each form...  61896721   \n",
       "4  Barplot from a dataframe using a column to set...  61896506   \n",
       "\n",
       "                                                tags  views  score   done  \\\n",
       "0                   ['python', 'python-3.x', 'kivy']     12      0  False   \n",
       "1  ['python', 'docker', 'pip', 'dependencies', 'p...      7      1  False   \n",
       "2                                ['python', 'regex']     29      3  False   \n",
       "3                               ['python', 'django']      4      0  False   \n",
       "4  ['python', 'pandas', 'bar-chart', 'seaborn', '...     12      0   True   \n",
       "\n",
       "    label  \n",
       "0  python  \n",
       "1  python  \n",
       "2  python  \n",
       "3  python  \n",
       "4  python  "
      ]
     },
     "execution_count": 17,
     "metadata": {},
     "output_type": "execute_result"
    }
   ],
   "source": [
    "df = pd.read_csv('full_dataset_v3.csv',sep=';')\n",
    "df.head()"
   ]
  },
  {
   "cell_type": "code",
   "execution_count": 18,
   "id": "0e0eeaa2",
   "metadata": {},
   "outputs": [
    {
     "data": {
      "text/html": [
       "<div>\n",
       "<style scoped>\n",
       "    .dataframe tbody tr th:only-of-type {\n",
       "        vertical-align: middle;\n",
       "    }\n",
       "\n",
       "    .dataframe tbody tr th {\n",
       "        vertical-align: top;\n",
       "    }\n",
       "\n",
       "    .dataframe thead tr th {\n",
       "        text-align: left;\n",
       "    }\n",
       "\n",
       "    .dataframe thead tr:last-of-type th {\n",
       "        text-align: right;\n",
       "    }\n",
       "</style>\n",
       "<table border=\"1\" class=\"dataframe\">\n",
       "  <thead>\n",
       "    <tr>\n",
       "      <th></th>\n",
       "      <th colspan=\"8\" halign=\"left\">id_stack</th>\n",
       "      <th colspan=\"5\" halign=\"left\">views</th>\n",
       "      <th colspan=\"8\" halign=\"left\">score</th>\n",
       "    </tr>\n",
       "    <tr>\n",
       "      <th></th>\n",
       "      <th>count</th>\n",
       "      <th>mean</th>\n",
       "      <th>std</th>\n",
       "      <th>min</th>\n",
       "      <th>25%</th>\n",
       "      <th>50%</th>\n",
       "      <th>75%</th>\n",
       "      <th>max</th>\n",
       "      <th>count</th>\n",
       "      <th>mean</th>\n",
       "      <th>...</th>\n",
       "      <th>75%</th>\n",
       "      <th>max</th>\n",
       "      <th>count</th>\n",
       "      <th>mean</th>\n",
       "      <th>std</th>\n",
       "      <th>min</th>\n",
       "      <th>25%</th>\n",
       "      <th>50%</th>\n",
       "      <th>75%</th>\n",
       "      <th>max</th>\n",
       "    </tr>\n",
       "    <tr>\n",
       "      <th>label</th>\n",
       "      <th></th>\n",
       "      <th></th>\n",
       "      <th></th>\n",
       "      <th></th>\n",
       "      <th></th>\n",
       "      <th></th>\n",
       "      <th></th>\n",
       "      <th></th>\n",
       "      <th></th>\n",
       "      <th></th>\n",
       "      <th></th>\n",
       "      <th></th>\n",
       "      <th></th>\n",
       "      <th></th>\n",
       "      <th></th>\n",
       "      <th></th>\n",
       "      <th></th>\n",
       "      <th></th>\n",
       "      <th></th>\n",
       "      <th></th>\n",
       "      <th></th>\n",
       "    </tr>\n",
       "  </thead>\n",
       "  <tbody>\n",
       "    <tr>\n",
       "      <th>R</th>\n",
       "      <td>9185.0</td>\n",
       "      <td>5.925903e+07</td>\n",
       "      <td>9.542595e+06</td>\n",
       "      <td>1330989.0</td>\n",
       "      <td>61901270.00</td>\n",
       "      <td>62079996.0</td>\n",
       "      <td>62270061.00</td>\n",
       "      <td>62470616.0</td>\n",
       "      <td>9185.0</td>\n",
       "      <td>2225.793685</td>\n",
       "      <td>...</td>\n",
       "      <td>35.0</td>\n",
       "      <td>904473.0</td>\n",
       "      <td>9185.0</td>\n",
       "      <td>1.993794</td>\n",
       "      <td>17.298833</td>\n",
       "      <td>-8.0</td>\n",
       "      <td>0.0</td>\n",
       "      <td>0.0</td>\n",
       "      <td>1.0</td>\n",
       "      <td>761.0</td>\n",
       "    </tr>\n",
       "    <tr>\n",
       "      <th>java</th>\n",
       "      <td>16418.0</td>\n",
       "      <td>5.576655e+07</td>\n",
       "      <td>1.487040e+07</td>\n",
       "      <td>123.0</td>\n",
       "      <td>61827414.50</td>\n",
       "      <td>62045749.0</td>\n",
       "      <td>62249187.75</td>\n",
       "      <td>62470650.0</td>\n",
       "      <td>16418.0</td>\n",
       "      <td>9449.874954</td>\n",
       "      <td>...</td>\n",
       "      <td>52.0</td>\n",
       "      <td>5941339.0</td>\n",
       "      <td>16418.0</td>\n",
       "      <td>7.406383</td>\n",
       "      <td>90.901604</td>\n",
       "      <td>-82.0</td>\n",
       "      <td>0.0</td>\n",
       "      <td>0.0</td>\n",
       "      <td>1.0</td>\n",
       "      <td>6545.0</td>\n",
       "    </tr>\n",
       "    <tr>\n",
       "      <th>javascript</th>\n",
       "      <td>17897.0</td>\n",
       "      <td>5.748022e+07</td>\n",
       "      <td>1.279066e+07</td>\n",
       "      <td>18985.0</td>\n",
       "      <td>61900750.00</td>\n",
       "      <td>62064869.0</td>\n",
       "      <td>62257117.00</td>\n",
       "      <td>62470679.0</td>\n",
       "      <td>17897.0</td>\n",
       "      <td>12075.814215</td>\n",
       "      <td>...</td>\n",
       "      <td>40.0</td>\n",
       "      <td>4280894.0</td>\n",
       "      <td>17897.0</td>\n",
       "      <td>11.577639</td>\n",
       "      <td>131.002891</td>\n",
       "      <td>-9.0</td>\n",
       "      <td>0.0</td>\n",
       "      <td>0.0</td>\n",
       "      <td>1.0</td>\n",
       "      <td>6877.0</td>\n",
       "    </tr>\n",
       "    <tr>\n",
       "      <th>php</th>\n",
       "      <td>12304.0</td>\n",
       "      <td>5.549392e+07</td>\n",
       "      <td>1.496494e+07</td>\n",
       "      <td>146.0</td>\n",
       "      <td>61816750.25</td>\n",
       "      <td>62055407.0</td>\n",
       "      <td>62262184.50</td>\n",
       "      <td>62470545.0</td>\n",
       "      <td>12304.0</td>\n",
       "      <td>6723.318839</td>\n",
       "      <td>...</td>\n",
       "      <td>43.0</td>\n",
       "      <td>2908723.0</td>\n",
       "      <td>12304.0</td>\n",
       "      <td>4.453349</td>\n",
       "      <td>63.309093</td>\n",
       "      <td>-8.0</td>\n",
       "      <td>0.0</td>\n",
       "      <td>0.0</td>\n",
       "      <td>1.0</td>\n",
       "      <td>4477.0</td>\n",
       "    </tr>\n",
       "    <tr>\n",
       "      <th>python</th>\n",
       "      <td>19530.0</td>\n",
       "      <td>5.845264e+07</td>\n",
       "      <td>1.125286e+07</td>\n",
       "      <td>2933.0</td>\n",
       "      <td>61909033.50</td>\n",
       "      <td>62068518.0</td>\n",
       "      <td>62256855.75</td>\n",
       "      <td>62470666.0</td>\n",
       "      <td>19530.0</td>\n",
       "      <td>8051.820533</td>\n",
       "      <td>...</td>\n",
       "      <td>35.0</td>\n",
       "      <td>3900089.0</td>\n",
       "      <td>19530.0</td>\n",
       "      <td>8.315822</td>\n",
       "      <td>127.868921</td>\n",
       "      <td>-21.0</td>\n",
       "      <td>0.0</td>\n",
       "      <td>0.0</td>\n",
       "      <td>1.0</td>\n",
       "      <td>10216.0</td>\n",
       "    </tr>\n",
       "  </tbody>\n",
       "</table>\n",
       "<p>5 rows × 24 columns</p>\n",
       "</div>"
      ],
      "text/plain": [
       "           id_stack                                                      \\\n",
       "              count          mean           std        min          25%   \n",
       "label                                                                     \n",
       "R            9185.0  5.925903e+07  9.542595e+06  1330989.0  61901270.00   \n",
       "java        16418.0  5.576655e+07  1.487040e+07      123.0  61827414.50   \n",
       "javascript  17897.0  5.748022e+07  1.279066e+07    18985.0  61900750.00   \n",
       "php         12304.0  5.549392e+07  1.496494e+07      146.0  61816750.25   \n",
       "python      19530.0  5.845264e+07  1.125286e+07     2933.0  61909033.50   \n",
       "\n",
       "                                                   views                ...  \\\n",
       "                   50%          75%         max    count          mean  ...   \n",
       "label                                                                   ...   \n",
       "R           62079996.0  62270061.00  62470616.0   9185.0   2225.793685  ...   \n",
       "java        62045749.0  62249187.75  62470650.0  16418.0   9449.874954  ...   \n",
       "javascript  62064869.0  62257117.00  62470679.0  17897.0  12075.814215  ...   \n",
       "php         62055407.0  62262184.50  62470545.0  12304.0   6723.318839  ...   \n",
       "python      62068518.0  62256855.75  62470666.0  19530.0   8051.820533  ...   \n",
       "\n",
       "                               score                                         \\\n",
       "             75%        max    count       mean         std   min  25%  50%   \n",
       "label                                                                         \n",
       "R           35.0   904473.0   9185.0   1.993794   17.298833  -8.0  0.0  0.0   \n",
       "java        52.0  5941339.0  16418.0   7.406383   90.901604 -82.0  0.0  0.0   \n",
       "javascript  40.0  4280894.0  17897.0  11.577639  131.002891  -9.0  0.0  0.0   \n",
       "php         43.0  2908723.0  12304.0   4.453349   63.309093  -8.0  0.0  0.0   \n",
       "python      35.0  3900089.0  19530.0   8.315822  127.868921 -21.0  0.0  0.0   \n",
       "\n",
       "                          \n",
       "            75%      max  \n",
       "label                     \n",
       "R           1.0    761.0  \n",
       "java        1.0   6545.0  \n",
       "javascript  1.0   6877.0  \n",
       "php         1.0   4477.0  \n",
       "python      1.0  10216.0  \n",
       "\n",
       "[5 rows x 24 columns]"
      ]
     },
     "execution_count": 18,
     "metadata": {},
     "output_type": "execute_result"
    }
   ],
   "source": [
    "df.groupby('label').describe()"
   ]
  },
  {
   "cell_type": "code",
   "execution_count": 19,
   "id": "4b293f65",
   "metadata": {},
   "outputs": [],
   "source": [
    "df_new = df[['title', 'label']]"
   ]
  },
  {
   "cell_type": "code",
   "execution_count": 20,
   "id": "1294cb2e",
   "metadata": {},
   "outputs": [
    {
     "data": {
      "text/plain": [
       "(9185, 2)"
      ]
     },
     "execution_count": 20,
     "metadata": {},
     "output_type": "execute_result"
    }
   ],
   "source": [
    "df_r = df_new[df_new['label']=='R']\n",
    "df_r.shape"
   ]
  },
  {
   "cell_type": "code",
   "execution_count": 21,
   "id": "3f707115",
   "metadata": {},
   "outputs": [
    {
     "data": {
      "text/plain": [
       "(9185, 2)"
      ]
     },
     "execution_count": 21,
     "metadata": {},
     "output_type": "execute_result"
    }
   ],
   "source": [
    "df_java = df_new[df_new['label']=='java']\n",
    "df_java = df_java.sample(df_r.shape[0])\n",
    "df_java.shape"
   ]
  },
  {
   "cell_type": "code",
   "execution_count": 22,
   "id": "9599d5d7",
   "metadata": {},
   "outputs": [
    {
     "data": {
      "text/plain": [
       "(9185, 2)"
      ]
     },
     "execution_count": 22,
     "metadata": {},
     "output_type": "execute_result"
    }
   ],
   "source": [
    "df_js = df_new[df_new['label']=='javascript']\n",
    "df_js = df_js.sample(df_r.shape[0])\n",
    "df_js.shape"
   ]
  },
  {
   "cell_type": "code",
   "execution_count": 23,
   "id": "193306d5",
   "metadata": {},
   "outputs": [
    {
     "data": {
      "text/plain": [
       "(9185, 2)"
      ]
     },
     "execution_count": 23,
     "metadata": {},
     "output_type": "execute_result"
    }
   ],
   "source": [
    "df_php = df_new[df_new['label']=='php']\n",
    "df_php = df_php.sample(df_r.shape[0])\n",
    "df_php.shape"
   ]
  },
  {
   "cell_type": "code",
   "execution_count": 24,
   "id": "d18a23aa",
   "metadata": {},
   "outputs": [
    {
     "data": {
      "text/plain": [
       "(9185, 2)"
      ]
     },
     "execution_count": 24,
     "metadata": {},
     "output_type": "execute_result"
    }
   ],
   "source": [
    "df_python = df_new[df_new['label']=='python']\n",
    "df_python = df_python.sample(df_r.shape[0])\n",
    "df_python.shape"
   ]
  },
  {
   "cell_type": "code",
   "execution_count": 25,
   "id": "faeb556f",
   "metadata": {},
   "outputs": [
    {
     "data": {
      "text/plain": [
       "(45925, 2)"
      ]
     },
     "execution_count": 25,
     "metadata": {},
     "output_type": "execute_result"
    }
   ],
   "source": [
    "df_balanced = pd.concat([df_r, df_java, df_js, df_php, df_python])\n",
    "df_balanced.shape"
   ]
  },
  {
   "cell_type": "code",
   "execution_count": 26,
   "id": "c0d782c6",
   "metadata": {},
   "outputs": [
    {
     "data": {
      "text/html": [
       "<div>\n",
       "<style scoped>\n",
       "    .dataframe tbody tr th:only-of-type {\n",
       "        vertical-align: middle;\n",
       "    }\n",
       "\n",
       "    .dataframe tbody tr th {\n",
       "        vertical-align: top;\n",
       "    }\n",
       "\n",
       "    .dataframe thead th {\n",
       "        text-align: right;\n",
       "    }\n",
       "</style>\n",
       "<table border=\"1\" class=\"dataframe\">\n",
       "  <thead>\n",
       "    <tr style=\"text-align: right;\">\n",
       "      <th></th>\n",
       "      <th>title</th>\n",
       "      <th>label</th>\n",
       "    </tr>\n",
       "  </thead>\n",
       "  <tbody>\n",
       "    <tr>\n",
       "      <th>29389</th>\n",
       "      <td>Python Conversion from WAV to FLAC</td>\n",
       "      <td>python</td>\n",
       "    </tr>\n",
       "    <tr>\n",
       "      <th>8086</th>\n",
       "      <td>setTimeout updating innerHTML but then previou...</td>\n",
       "      <td>javascript</td>\n",
       "    </tr>\n",
       "    <tr>\n",
       "      <th>8966</th>\n",
       "      <td>PHP UPDATE prepared statement</td>\n",
       "      <td>php</td>\n",
       "    </tr>\n",
       "    <tr>\n",
       "      <th>27285</th>\n",
       "      <td>NestJS strategy for excluding fields for diffe...</td>\n",
       "      <td>javascript</td>\n",
       "    </tr>\n",
       "    <tr>\n",
       "      <th>16124</th>\n",
       "      <td>How properly cast in TypeScript?</td>\n",
       "      <td>javascript</td>\n",
       "    </tr>\n",
       "    <tr>\n",
       "      <th>15516</th>\n",
       "      <td>Plotting factor variable in Geospatial - R</td>\n",
       "      <td>R</td>\n",
       "    </tr>\n",
       "    <tr>\n",
       "      <th>29026</th>\n",
       "      <td>CondingBat Python puzzle results in &amp;quot;Time...</td>\n",
       "      <td>python</td>\n",
       "    </tr>\n",
       "    <tr>\n",
       "      <th>39703</th>\n",
       "      <td>simplexml_load_file — Fail to get the value of...</td>\n",
       "      <td>php</td>\n",
       "    </tr>\n",
       "    <tr>\n",
       "      <th>45646</th>\n",
       "      <td>Java/Kotlin- Akka Stream Source.reduce does no...</td>\n",
       "      <td>java</td>\n",
       "    </tr>\n",
       "    <tr>\n",
       "      <th>46376</th>\n",
       "      <td>Can I write a single stored procedure for mult...</td>\n",
       "      <td>javascript</td>\n",
       "    </tr>\n",
       "  </tbody>\n",
       "</table>\n",
       "</div>"
      ],
      "text/plain": [
       "                                                   title       label\n",
       "29389                 Python Conversion from WAV to FLAC      python\n",
       "8086   setTimeout updating innerHTML but then previou...  javascript\n",
       "8966                       PHP UPDATE prepared statement         php\n",
       "27285  NestJS strategy for excluding fields for diffe...  javascript\n",
       "16124                   How properly cast in TypeScript?  javascript\n",
       "15516         Plotting factor variable in Geospatial - R           R\n",
       "29026  CondingBat Python puzzle results in &quot;Time...      python\n",
       "39703  simplexml_load_file — Fail to get the value of...         php\n",
       "45646  Java/Kotlin- Akka Stream Source.reduce does no...        java\n",
       "46376  Can I write a single stored procedure for mult...  javascript"
      ]
     },
     "execution_count": 26,
     "metadata": {},
     "output_type": "execute_result"
    }
   ],
   "source": [
    "df_balanced['label'].value_counts()\n",
    "df_balanced.sample(10)"
   ]
  },
  {
   "cell_type": "code",
   "execution_count": 27,
   "id": "3f50c3bd",
   "metadata": {},
   "outputs": [
    {
     "data": {
      "text/html": [
       "<div>\n",
       "<style scoped>\n",
       "    .dataframe tbody tr th:only-of-type {\n",
       "        vertical-align: middle;\n",
       "    }\n",
       "\n",
       "    .dataframe tbody tr th {\n",
       "        vertical-align: top;\n",
       "    }\n",
       "\n",
       "    .dataframe thead th {\n",
       "        text-align: right;\n",
       "    }\n",
       "</style>\n",
       "<table border=\"1\" class=\"dataframe\">\n",
       "  <thead>\n",
       "    <tr style=\"text-align: right;\">\n",
       "      <th></th>\n",
       "      <th>title</th>\n",
       "      <th>label</th>\n",
       "      <th>category</th>\n",
       "    </tr>\n",
       "  </thead>\n",
       "  <tbody>\n",
       "    <tr>\n",
       "      <th>23250</th>\n",
       "      <td>Produce two shiny widgets from the same uiOutp...</td>\n",
       "      <td>R</td>\n",
       "      <td>0</td>\n",
       "    </tr>\n",
       "    <tr>\n",
       "      <th>41540</th>\n",
       "      <td>Grid bag layout struggles</td>\n",
       "      <td>java</td>\n",
       "      <td>1</td>\n",
       "    </tr>\n",
       "    <tr>\n",
       "      <th>36685</th>\n",
       "      <td>keep const value in Symfony</td>\n",
       "      <td>php</td>\n",
       "      <td>3</td>\n",
       "    </tr>\n",
       "    <tr>\n",
       "      <th>4705</th>\n",
       "      <td>Error al ejecutar comando PHP ARTISAN SERVE</td>\n",
       "      <td>php</td>\n",
       "      <td>3</td>\n",
       "    </tr>\n",
       "    <tr>\n",
       "      <th>33375</th>\n",
       "      <td>Accepted design pattern for mapping a large co...</td>\n",
       "      <td>python</td>\n",
       "      <td>4</td>\n",
       "    </tr>\n",
       "    <tr>\n",
       "      <th>69566</th>\n",
       "      <td>Angular ag-Grid: how to refresh param value in...</td>\n",
       "      <td>javascript</td>\n",
       "      <td>2</td>\n",
       "    </tr>\n",
       "    <tr>\n",
       "      <th>71638</th>\n",
       "      <td>Android How to use use. Recycle View</td>\n",
       "      <td>java</td>\n",
       "      <td>1</td>\n",
       "    </tr>\n",
       "    <tr>\n",
       "      <th>31791</th>\n",
       "      <td>onStop for Fragment in TabLayout to save some ...</td>\n",
       "      <td>java</td>\n",
       "      <td>1</td>\n",
       "    </tr>\n",
       "    <tr>\n",
       "      <th>17742</th>\n",
       "      <td>Raw Image Python 4 Dimensions</td>\n",
       "      <td>python</td>\n",
       "      <td>4</td>\n",
       "    </tr>\n",
       "    <tr>\n",
       "      <th>59955</th>\n",
       "      <td>How to reduce conditionality of a categorical ...</td>\n",
       "      <td>python</td>\n",
       "      <td>4</td>\n",
       "    </tr>\n",
       "  </tbody>\n",
       "</table>\n",
       "</div>"
      ],
      "text/plain": [
       "                                                   title       label  category\n",
       "23250  Produce two shiny widgets from the same uiOutp...           R         0\n",
       "41540                          Grid bag layout struggles        java         1\n",
       "36685                        keep const value in Symfony         php         3\n",
       "4705         Error al ejecutar comando PHP ARTISAN SERVE         php         3\n",
       "33375  Accepted design pattern for mapping a large co...      python         4\n",
       "69566  Angular ag-Grid: how to refresh param value in...  javascript         2\n",
       "71638               Android How to use use. Recycle View        java         1\n",
       "31791  onStop for Fragment in TabLayout to save some ...        java         1\n",
       "17742                      Raw Image Python 4 Dimensions      python         4\n",
       "59955  How to reduce conditionality of a categorical ...      python         4"
      ]
     },
     "execution_count": 27,
     "metadata": {},
     "output_type": "execute_result"
    }
   ],
   "source": [
    "df_balanced['category'] = df_balanced['label'].apply(lambda x: 0 if x == 'R' else 1 if x == 'java' else 2 if x == 'javascript' else 3 if x == 'php' else 4)\n",
    "df_balanced.sample(10)"
   ]
  },
  {
   "cell_type": "code",
   "execution_count": 28,
   "id": "2ee0e198",
   "metadata": {},
   "outputs": [
    {
     "name": "stdout",
     "output_type": "stream",
     "text": [
      "\u001b[31mERROR: Could not find a version that satisfies the requirement tensorflow_text (from versions: none)\u001b[0m\u001b[31m\r\n",
      "\u001b[0m\u001b[31mERROR: No matching distribution found for tensorflow_text\u001b[0m\u001b[31m\r\n",
      "\u001b[0m"
     ]
    },
    {
     "ename": "ModuleNotFoundError",
     "evalue": "No module named 'tensorflow_text'",
     "output_type": "error",
     "traceback": [
      "\u001b[0;31m---------------------------------------------------------------------------\u001b[0m",
      "\u001b[0;31mModuleNotFoundError\u001b[0m                       Traceback (most recent call last)",
      "Cell \u001b[0;32mIn[28], line 2\u001b[0m\n\u001b[1;32m      1\u001b[0m get_ipython()\u001b[38;5;241m.\u001b[39msystem(\u001b[38;5;124m'\u001b[39m\u001b[38;5;124mpip install tensorflow_text\u001b[39m\u001b[38;5;124m'\u001b[39m)\n\u001b[0;32m----> 2\u001b[0m \u001b[38;5;28;01mimport\u001b[39;00m \u001b[38;5;21;01mtensorflow_text\u001b[39;00m \u001b[38;5;28;01mas\u001b[39;00m \u001b[38;5;21;01mtext\u001b[39;00m\n\u001b[1;32m      3\u001b[0m \u001b[38;5;28;01mimport\u001b[39;00m \u001b[38;5;21;01mtensorflow\u001b[39;00m \u001b[38;5;28;01mas\u001b[39;00m \u001b[38;5;21;01mtf\u001b[39;00m\n\u001b[1;32m      4\u001b[0m \u001b[38;5;28;01mimport\u001b[39;00m \u001b[38;5;21;01mtensorflow_hub\u001b[39;00m \u001b[38;5;28;01mas\u001b[39;00m \u001b[38;5;21;01mhub\u001b[39;00m\n",
      "\u001b[0;31mModuleNotFoundError\u001b[0m: No module named 'tensorflow_text'"
     ]
    }
   ],
   "source": [
    "!pip install tensorflow_text\n",
    "import tensorflow_text as text\n",
    "import tensorflow as tf\n",
    "import tensorflow_hub as hub"
   ]
  },
  {
   "cell_type": "code",
   "execution_count": null,
   "id": "b2076b70",
   "metadata": {
    "scrolled": false
   },
   "outputs": [],
   "source": [
    "bert_preprocess = hub.KerasLayer(\"https://tfhub.dev/tensorflow/bert_en_uncased_preprocess/3\")\n",
    "bert_encoder = hub.KerasLayer(\"https://tfhub.dev/tensorflow/bert_en_uncased_L-12_H-768_A-12/4\")"
   ]
  },
  {
   "cell_type": "code",
   "execution_count": 29,
   "id": "9ff22c97",
   "metadata": {},
   "outputs": [],
   "source": [
    "titles = df_balanced['title'].values\n",
    "categories = df_balanced['category'].values  # Make sure this is an array of integers\n",
    "\n",
    "# Split into training and testing sets (adjust the test_size as needed)\n",
    "from sklearn.model_selection import train_test_split\n",
    "X_train, X_test, y_train, y_test = train_test_split(titles, categories, test_size=0.3, random_state=42)"
   ]
  },
  {
   "cell_type": "code",
   "execution_count": 30,
   "id": "7ea21d6e",
   "metadata": {},
   "outputs": [
    {
     "ename": "NameError",
     "evalue": "name 'bert_preprocess' is not defined",
     "output_type": "error",
     "traceback": [
      "\u001b[0;31m---------------------------------------------------------------------------\u001b[0m",
      "\u001b[0;31mNameError\u001b[0m                                 Traceback (most recent call last)",
      "Cell \u001b[0;32mIn[30], line 3\u001b[0m\n\u001b[1;32m      1\u001b[0m \u001b[38;5;66;03m# Build the model\u001b[39;00m\n\u001b[1;32m      2\u001b[0m text_input \u001b[38;5;241m=\u001b[39m tf\u001b[38;5;241m.\u001b[39mkeras\u001b[38;5;241m.\u001b[39mlayers\u001b[38;5;241m.\u001b[39mInput(shape\u001b[38;5;241m=\u001b[39m(), dtype\u001b[38;5;241m=\u001b[39mtf\u001b[38;5;241m.\u001b[39mstring, name\u001b[38;5;241m=\u001b[39m\u001b[38;5;124m'\u001b[39m\u001b[38;5;124mtext\u001b[39m\u001b[38;5;124m'\u001b[39m)\n\u001b[0;32m----> 3\u001b[0m preprocessed_text \u001b[38;5;241m=\u001b[39m bert_preprocess(text_input)\n\u001b[1;32m      4\u001b[0m outputs \u001b[38;5;241m=\u001b[39m bert_encoder(preprocessed_text)\n\u001b[1;32m      6\u001b[0m \u001b[38;5;66;03m# Neural network layers\u001b[39;00m\n",
      "\u001b[0;31mNameError\u001b[0m: name 'bert_preprocess' is not defined"
     ]
    }
   ],
   "source": [
    "# Build the model\n",
    "text_input = tf.keras.layers.Input(shape=(), dtype=tf.string, name='text')\n",
    "preprocessed_text = bert_preprocess(text_input)\n",
    "outputs = bert_encoder(preprocessed_text)\n",
    "\n",
    "# Neural network layers\n",
    "l = tf.keras.layers.Dropout(0.1, name=\"dropout\")(outputs['pooled_output'])\n",
    "# Since you have five classes, use a dense layer with 5 units and a softmax activation.\n",
    "l = tf.keras.layers.Dense(5, activation='softmax', name=\"output\")(l)\n",
    "\n",
    "# Construct the final model\n",
    "model = tf.keras.Model(inputs=[text_input], outputs=[l])\n",
    "\n",
    "# Compile the model\n",
    "model.compile(optimizer='adam',\n",
    "              loss='sparse_categorical_crossentropy',  # Use this if your labels are integers\n",
    "              # If your labels are one-hot encoded, use 'categorical_crossentropy' instead\n",
    "              metrics=['accuracy'])\n",
    "\n",
    "# Display the model's architecture\n",
    "model.summary()"
   ]
  },
  {
   "cell_type": "code",
   "execution_count": null,
   "id": "be4806e2",
   "metadata": {},
   "outputs": [],
   "source": []
  }
 ],
 "metadata": {
  "kernelspec": {
   "display_name": "Python 3 (ipykernel)",
   "language": "python",
   "name": "python3"
  },
  "language_info": {
   "codemirror_mode": {
    "name": "ipython",
    "version": 3
   },
   "file_extension": ".py",
   "mimetype": "text/x-python",
   "name": "python",
   "nbconvert_exporter": "python",
   "pygments_lexer": "ipython3",
   "version": "3.11.4"
  }
 },
 "nbformat": 4,
 "nbformat_minor": 5
}
